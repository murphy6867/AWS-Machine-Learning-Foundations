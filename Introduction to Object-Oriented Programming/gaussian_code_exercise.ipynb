{
 "cells": [
  {
   "cell_type": "code",
   "execution_count": null,
   "metadata": {},
   "outputs": [],
   "source": [
    "from itertools import count\n",
    "import math\n",
    "from statistics import mean\n",
    "import matplotlib.pyplot as plt\n",
    "\n",
    "class Gaussian():\n",
    "    \"\"\" Gaussian distribution class for calculating and\n",
    "    visualizing a Gaussian distribution.\n",
    "    \n",
    "    Attributes:\n",
    "        mean (float) representing the mean value of the distribution\n",
    "        stdev (float) representing the standard deviation of the distribution\n",
    "        data_list (list of floats) a list of floats extracted from the data file\n",
    "    \"\"\"\n",
    "    def __init__(self, mu = 0, sigma = 1):\n",
    "        \n",
    "        self.mean = mu\n",
    "        self.stdev = sigma\n",
    "        self.data = []\n",
    "        \n",
    "    \n",
    "    def calculate_mean(self):\n",
    "        \n",
    "        \"\"\"Method to calculate the mean of the data set.\n",
    "        Args:\n",
    "            None\n",
    "        \n",
    "        Returns:\n",
    "            float: mean of the data set\n",
    "        \"\"\"\n",
    "        count = 0\n",
    "        sum = 0\n",
    "        for i in self.data:\n",
    "            count += 1\n",
    "            sum = sum + int(i)\n",
    "        return(sum / count)\n",
    "    \n",
    "    def calculate_stdev(self, sample=True):\n",
    "        \"\"\"Method to calculate the standard of the data set.\n",
    "        \n",
    "        Args:\n",
    "            sample (bool): whether the data reoresents a sample or population\n",
    "            \n",
    "        Returns:\n",
    "            float: standard deviation of the data set\n",
    "        \"\"\"\n",
    "        mu = self.calculate_mean(self.data)\n",
    "        var = []\n",
    "        var_2 = 0.0\n",
    "        n = 0\n",
    "        for i in self.data:\n",
    "            var.append(i - mu)\n",
    "            \n",
    "        for i in var:\n",
    "            n += 1\n",
    "            var_2 = var_2 + (i * i)\n",
    "        return(math.sqrt(var_2 / n))\n",
    "        \n",
    "    "
   ]
  }
 ],
 "metadata": {
  "kernelspec": {
   "display_name": "Python 3.9.12 ('base')",
   "language": "python",
   "name": "python3"
  },
  "language_info": {
   "name": "python",
   "version": "3.9.12"
  },
  "orig_nbformat": 4,
  "vscode": {
   "interpreter": {
    "hash": "fe254d791cbd04bd518fe49be348807b11f6b42b753d7eb011cbae295d6f9919"
   }
  }
 },
 "nbformat": 4,
 "nbformat_minor": 2
}
